{
 "cells": [
  {
   "cell_type": "markdown",
   "metadata": {},
   "source": [
    "# My dictionary "
   ]
  },
  {
   "cell_type": "markdown",
   "metadata": {},
   "source": [
    "## numpy"
   ]
  },
  {
   "cell_type": "code",
   "execution_count": 2,
   "metadata": {},
   "outputs": [],
   "source": [
    "import numpy as np\n",
    "\n",
    "#ARRAY \n",
    "arrays  =  np.array([[1,2,3],[4,5,6]]) # create an array with numpy\n",
    "zeros   =  np.zeros((5,5))             # array of zero\n",
    "ones    =  np.ones((5,5))              # array of one\n",
    "full    =  np.full((5,5),zeros)        # full with any number\n",
    "eye     =  np.eye(5)                   # indetify matrix\n",
    "random  =  np.random.random((5,5))     # random numbers\n",
    "arange  =  np.arange(18)               #from number to number \n",
    "lins    =  np.linspace(0,10,4)         # from number to number the last element specify how many \n",
    "uniform =  np.random.rand(5)  *100     #random distribution\n",
    "calcian =  np.random.randn(5) *100     #calcian distibution\n",
    "intei   =  np.random.randint(0,100,10) #randint 10 of [0-100]\n",
    "arredo  =  np.round(uniform,0)         #to int number,the second element specify hom many numbers after dot\n",
    "reshape =  arange.reshape(3,6)         # use with  np.arange(18)  transfom shape from vector to matrix \n",
    "minn    =  reshape.min()               #minimum number of array\n",
    "maxn    =  reshape.max()               #maximum number of array\n",
    "indxmax =  reshape.argmax()            #index o max number\n",
    "\n",
    "\n",
    "\n",
    "\n",
    "#MATH\n",
    "add     =  np.add(eye,ones)         # add or x+y \n",
    "sub     =  np.subtract(eye,ones)    # asubtract or x-y  \n",
    "mult    =  np.multiply(eye,ones)    # multiply or x*y  \n",
    "div     =  np.divide(eye,ones)      # divide or x/y  \n",
    "sqrt    =  np.sqrt(eye,ones)        # sqrt  \n",
    "dot     =  np.dot(eye,ones)         # to multiply a vector by a matrix, and to multiply matrices\n",
    "dot2    =  eye.dot(ones)            # anpther way to use dot \n",
    "sumAll  =  np.sum(arrays)           # compute the sum of all ementents in array\n",
    "sumCol  =  np.sum(arrays,axis=0)    # sum of column\n",
    "sumRow  =  np.sum(arrays,axis=1)    # sum of Row\n",
    " \n"
   ]
  },
  {
   "cell_type": "code",
   "execution_count": 13,
   "metadata": {},
   "outputs": [
    {
     "data": {
      "text/plain": [
       "array([[[0, 1, 2, 3, 4]],\n",
       "\n",
       "       [[0, 1, 2, 3, 4]],\n",
       "\n",
       "       [[0, 1, 2, 3, 4]]])"
      ]
     },
     "execution_count": 13,
     "metadata": {},
     "output_type": "execute_result"
    }
   ],
   "source": [
    "np.array([[np.arange(5)],[np.arange(5)],[np.arange(5)]])"
   ]
  },
  {
   "cell_type": "code",
   "execution_count": 7,
   "metadata": {},
   "outputs": [
    {
     "data": {
      "text/plain": [
       "array([0. , 1.5, 3. , 4.5, 6. ])"
      ]
     },
     "execution_count": 7,
     "metadata": {},
     "output_type": "execute_result"
    }
   ],
   "source": [
    "np.linspace()"
   ]
  }
 ],
 "metadata": {
  "kernelspec": {
   "display_name": "Python 3",
   "language": "python",
   "name": "python3"
  },
  "language_info": {
   "codemirror_mode": {
    "name": "ipython",
    "version": 3
   },
   "file_extension": ".py",
   "mimetype": "text/x-python",
   "name": "python",
   "nbconvert_exporter": "python",
   "pygments_lexer": "ipython3",
   "version": "3.7.1"
  }
 },
 "nbformat": 4,
 "nbformat_minor": 2
}
