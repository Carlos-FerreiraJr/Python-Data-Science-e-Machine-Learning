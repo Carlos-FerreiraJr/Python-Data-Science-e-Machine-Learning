{
 "cells": [
  {
   "cell_type": "markdown",
   "metadata": {},
   "source": [
    "<h1>reforçar</h1>"
   ]
  },
  {
   "cell_type": "raw",
   "metadata": {},
   "source": [
    "Análise de dados\n",
    "        1 numpy linspace\n",
    "        1 reshape\n",
    "        0 aprender todas aplicacoes dos metodos\n",
    "        0 reshape.argmax()"
   ]
  },
  {
   "cell_type": "markdown",
   "metadata": {},
   "source": [
    "<h1>Notas</h1>"
   ]
  },
  {
   "cell_type": "markdown",
   "metadata": {},
   "source": [
    "#### Anaconda \n",
    "podemos criar varios ambientes virtuais de python com anaconda,e com esses ambientes virtuais podemos usar diferentes versẽs do python ou bibliotecas.\n",
    "para criar um novo ambiente usamos:\n",
    "\tconda create --name ambiente1 python=3.4\n",
    "\tconda create -n ambiente2 python=2.7\n",
    "para podermos ativar o ambiente usamos conda activate ou conda deactivate.\n",
    "podemos também criar um ambiente com o pacote de versão de uma determinada biblioteca como \n",
    "\n",
    "conda create -n myenv scipy=0.15.0\n"
   ]
  },
  {
   "cell_type": "markdown",
   "metadata": {},
   "source": [
    "#### numpy\n",
    "<a href=\"../Python-para-DataScience-e-Machine-Learning-Apostias/dictionary.ipynb\">DIcionário de metódos</a>"
   ]
  },
  {
   "cell_type": "markdown",
   "metadata": {},
   "source": [
    "#### Pandas"
   ]
  },
  {
   "cell_type": "raw",
   "metadata": {},
   "source": [
    "                                                dataframe                \n",
    " é um conjunto de series.\n",
    " \n",
    "Inplace\n",
    "    o paramentro inplace muda o formato da variavel sem precisar atribuir novamente\n",
    "    ex: df.drop(axis=1,inplace=\"True\")\n",
    "Drop\n",
    "    para apagar uma coluna do dataFrame colocamos axis=1 na funcao drop() \n",
    "    ex: df.drop(axis=0)\n",
    "loc\n",
    "    localizar elementos dentro do dataframe onde usamos o indice e a coluna\n",
    "    \n",
    "iloc \n",
    "    usamos posições numéricas para localizar os indices \n",
    "condicional\n",
    "    usamos & para e e | para ou\n",
    "reset_index()\n",
    "    para resetar o index do dataframe ao fazer isso uma nova coluna com o index 0 é gerada\n",
    "set_index()\n",
    "    para definir um novo index para o dataframe \n",
    "groupyby \n",
    "    ordena por uma coluna para somar outra\n",
    " multiIndex.from_tuples()\n",
    "     criação de mútiplos indices onde podemos organizar por categorias\n",
    "xs()\n",
    "    com o cruzamento de seção podemos selecionar mais facilmente os elementos do dtaFrame como por exemplo selecionando todos os idh de vários estados nesse cas usamos o xs(numero da coluna ,level= name da coluna.\n",
    "df.dropna()\n",
    "        apaga os valores nulos considera como padrão axis = o eliminado as linhas nulas,usando thresh como parametro essa consideração sera feita a partir do valor passado como thresh=2 a linha só sera excluida se tiver 2 números nulos \n",
    "        \n",
    "df.fillna()\n",
    "    preenche os valores nulo com o value especificado em value = ? podemos passar também como parâmetro o method = ffill que colocará os valores nulos como o útlimo valor da coluna \n",
    "    \n",
    "        \n",
    "\n",
    "\n",
    "    "
   ]
  },
  {
   "cell_type": "raw",
   "metadata": {},
   "source": []
  },
  {
   "cell_type": "code",
   "execution_count": null,
   "metadata": {},
   "outputs": [],
   "source": []
  }
 ],
 "metadata": {
  "kernelspec": {
   "display_name": "Python 3",
   "language": "python",
   "name": "python3"
  },
  "language_info": {
   "codemirror_mode": {
    "name": "ipython",
    "version": 3
   },
   "file_extension": ".py",
   "mimetype": "text/x-python",
   "name": "python",
   "nbconvert_exporter": "python",
   "pygments_lexer": "ipython3",
   "version": "3.7.1"
  }
 },
 "nbformat": 4,
 "nbformat_minor": 2
}
